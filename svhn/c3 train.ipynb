{
 "cells": [
  {
   "cell_type": "code",
   "execution_count": 1,
   "metadata": {
    "collapsed": true
   },
   "outputs": [],
   "source": [
    "import torch\n",
    "from torch.autograd import Variable\n",
    "import torch.nn as nn\n",
    "import torch.nn.init as init\n",
    "import torch.nn.functional as F\n",
    "import torch.optim as optim\n",
    "import numpy as np\n",
    "from six.moves import cPickle as pickle\n",
    "from six.moves import range"
   ]
  },
  {
   "cell_type": "code",
   "execution_count": 2,
   "metadata": {},
   "outputs": [
    {
     "name": "stdout",
     "output_type": "stream",
     "text": [
      "train set (97722, 1, 64, 64) (97722, 6)\n",
      "44053\n"
     ]
    }
   ],
   "source": [
    "pickle_file = 'SVHN_1x64x64_train.pickle'\n",
    "\n",
    "with open(pickle_file, 'rb') as f:\n",
    "    save = pickle.load(f)\n",
    "    train_dataset = save['train_dataset']\n",
    "    train_labels = save['train_labels']\n",
    "    del save  # hint to help gc free up memory\n",
    "    print('train set', train_dataset.shape, train_labels.shape)\n",
    "\n",
    "c3 = []\n",
    "\n",
    "for i in range(97722):\n",
    "    categ = train_labels[i][0]\n",
    "    if(categ == 3):\n",
    "        c3.append(i)\n",
    "\n",
    "print(len(c3))"
   ]
  },
  {
   "cell_type": "code",
   "execution_count": 3,
   "metadata": {},
   "outputs": [
    {
     "name": "stdout",
     "output_type": "stream",
     "text": [
      "(44053, 1, 64, 64)\n",
      "(44053, 6)\n"
     ]
    }
   ],
   "source": [
    "c3_data = train_dataset[c3]\n",
    "c3_target = train_labels[c3]\n",
    "print(c3_data.shape)\n",
    "print(c3_target.shape)"
   ]
  },
  {
   "cell_type": "code",
   "execution_count": 4,
   "metadata": {
    "collapsed": true
   },
   "outputs": [],
   "source": [
    "class Net(nn.Module):\n",
    "    def __init__(self):\n",
    "        super(Net, self).__init__()\n",
    "        self.conv1 = nn.Conv2d(1, 20, 3, padding=(1, 1))\n",
    "        self.conv2 = nn.Conv2d(20, 40, 3, padding=(1, 1))\n",
    "        self.conv3 = nn.Conv2d(40, 80, 3, padding=(1, 1))\n",
    "        self.conv4 = nn.Conv2d(80, 120, 3, padding=(1, 1))\n",
    "        self.conv5 = nn.Conv2d(120, 160, 3, padding=(1, 1))\n",
    "        self.conv6 = nn.Conv2d(160, 200, 3, padding=(1, 1))\n",
    "        self.conv7 = nn.Conv2d(200, 240, 3, padding=(1, 1))\n",
    "        self.pool = nn.MaxPool2d(2, 2)\n",
    "        self.FC = nn.Linear(960, 1080)\n",
    "        self.digitlength = nn.Linear(1080, 7)\n",
    "        self.digit1 = nn.Linear(1080, 10)\n",
    "        self.digit2 = nn.Linear(1080, 10)\n",
    "        self.digit3 = nn.Linear(1080, 10)\n",
    "        self.digit4 = nn.Linear(1080, 10)\n",
    "        self.digit5 = nn.Linear(1080, 10)\n",
    "    \n",
    "    def forward(self, x):\n",
    "        x = F.relu(self.conv1(x))\n",
    "        x = self.pool(F.relu(self.conv2(x)))\n",
    "        x = F.relu(self.conv3(x))\n",
    "        x = self.pool(F.relu(self.conv4(x)))\n",
    "        x = self.pool(F.relu(self.conv5(x)))\n",
    "        x = self.pool(F.relu(self.conv6(x)))\n",
    "        x = self.pool(F.relu(self.conv7(x)))\n",
    "        x = x.view(-1, 960)\n",
    "        x = self.FC(x)\n",
    "        yl = self.digitlength(x)\n",
    "        y1 = self.digit1(x)\n",
    "        y2 = self.digit2(x)\n",
    "        y3 = self.digit3(x)\n",
    "        y4 = self.digit4(x)\n",
    "        y5 = self.digit5(x)\n",
    "        return [yl, y1, y2, y3, y4, y5]"
   ]
  },
  {
   "cell_type": "code",
   "execution_count": 5,
   "metadata": {},
   "outputs": [
    {
     "data": {
      "text/plain": [
       "Net (\n",
       "  (conv1): Conv2d(1, 20, kernel_size=(3, 3), stride=(1, 1), padding=(1, 1))\n",
       "  (conv2): Conv2d(20, 40, kernel_size=(3, 3), stride=(1, 1), padding=(1, 1))\n",
       "  (conv3): Conv2d(40, 80, kernel_size=(3, 3), stride=(1, 1), padding=(1, 1))\n",
       "  (conv4): Conv2d(80, 120, kernel_size=(3, 3), stride=(1, 1), padding=(1, 1))\n",
       "  (conv5): Conv2d(120, 160, kernel_size=(3, 3), stride=(1, 1), padding=(1, 1))\n",
       "  (conv6): Conv2d(160, 200, kernel_size=(3, 3), stride=(1, 1), padding=(1, 1))\n",
       "  (conv7): Conv2d(200, 240, kernel_size=(3, 3), stride=(1, 1), padding=(1, 1))\n",
       "  (pool): MaxPool2d (size=(2, 2), stride=(2, 2), dilation=(1, 1))\n",
       "  (FC): Linear (960 -> 1080)\n",
       "  (digitlength): Linear (1080 -> 7)\n",
       "  (digit1): Linear (1080 -> 10)\n",
       "  (digit2): Linear (1080 -> 10)\n",
       "  (digit3): Linear (1080 -> 10)\n",
       "  (digit4): Linear (1080 -> 10)\n",
       "  (digit5): Linear (1080 -> 10)\n",
       ")"
      ]
     },
     "execution_count": 5,
     "metadata": {},
     "output_type": "execute_result"
    }
   ],
   "source": [
    "net = Net()\n",
    "f = open('c3_ep_20.pkl', 'rb')\n",
    "net.load_state_dict(torch.load(f))\n",
    "f.close()\n",
    "net.cuda()"
   ]
  },
  {
   "cell_type": "code",
   "execution_count": 6,
   "metadata": {},
   "outputs": [],
   "source": [
    "for param in net.parameters():\n",
    "    if(param.grad is not None):\n",
    "        print(param)"
   ]
  },
  {
   "cell_type": "code",
   "execution_count": 7,
   "metadata": {},
   "outputs": [
    {
     "name": "stdout",
     "output_type": "stream",
     "text": [
      "torch.FloatTensor torch.Size([44053, 1, 64, 64])\n",
      "torch.LongTensor torch.Size([44053, 6])\n"
     ]
    }
   ],
   "source": [
    "c3_data_tensor = torch.from_numpy(c3_data)\n",
    "c3_target_tensor = torch.from_numpy(c3_target).type(torch.LongTensor)\n",
    "print(c3_data_tensor.type(), c3_data_tensor.size())\n",
    "print(c3_target_tensor.type(), c3_target_tensor.size())"
   ]
  },
  {
   "cell_type": "code",
   "execution_count": 8,
   "metadata": {
    "collapsed": true
   },
   "outputs": [],
   "source": [
    "objective = nn.CrossEntropyLoss()\n",
    "optimizer = optim.Adam(net.parameters())"
   ]
  },
  {
   "cell_type": "code",
   "execution_count": 21,
   "metadata": {},
   "outputs": [
    {
     "name": "stdout",
     "output_type": "stream",
     "text": [
      "688\n"
     ]
    }
   ],
   "source": [
    "num_epochs = 20\n",
    "batch_size = 64\n",
    "num_train =  c3_data.shape[0]\n",
    "iter_per_epoch = num_train // batch_size\n",
    "print_every = 300\n",
    "print(iter_per_epoch)"
   ]
  },
  {
   "cell_type": "code",
   "execution_count": 22,
   "metadata": {
    "collapsed": true
   },
   "outputs": [],
   "source": [
    "epoch_losses = {i:[] for i in range(num_epochs)}\n",
    "loss_history = []"
   ]
  },
  {
   "cell_type": "code",
   "execution_count": 23,
   "metadata": {},
   "outputs": [],
   "source": [
    "import time"
   ]
  },
  {
   "cell_type": "code",
   "execution_count": 24,
   "metadata": {},
   "outputs": [
    {
     "name": "stdout",
     "output_type": "stream",
     "text": [
      "Epoch 0/19\n",
      "--------------------------------------------------------------------------------------------------------------\n",
      "Iteration :  1  /  688\n",
      "loss :  0.16937978565692902\n",
      "lossl :  2.057105302810669e-05 loss1 :  0.06157168000936508 loss2 :  0.023395568132400513 loss3 :  0.08439196646213531\n",
      "Iteration :  301  /  688\n",
      "loss :  0.2924850285053253\n",
      "lossl :  1.8291175365447998e-05 loss1 :  0.06882468611001968 loss2 :  0.05793061852455139 loss3 :  0.1657114326953888\n",
      "Iteration :  601  /  688\n",
      "loss :  0.1539323329925537\n",
      "lossl :  1.0445713996887207e-05 loss1 :  0.051383912563323975 loss2 :  0.0416894257068634 loss3 :  0.060848549008369446\n",
      "time taken :  1277.7254421710968\n",
      "--------------------------------------------------------------------------------------------------------------\n",
      "Epoch 1/19\n",
      "--------------------------------------------------------------------------------------------------------------\n",
      "Iteration :  1  /  688\n",
      "loss :  0.07550013065338135\n",
      "lossl :  1.259148120880127e-06 loss1 :  0.01462651789188385 loss2 :  0.03623639792203903 loss3 :  0.024635955691337585\n",
      "Iteration :  301  /  688\n",
      "loss :  0.11783675849437714\n",
      "lossl :  6.027519702911377e-06 loss1 :  0.029962005093693733 loss2 :  0.0765080451965332 loss3 :  0.011360682547092438\n",
      "Iteration :  601  /  688\n",
      "loss :  0.11972060799598694\n",
      "lossl :  1.8768012523651123e-05 loss1 :  0.0683579295873642 loss2 :  0.006737425923347473 loss3 :  0.04460648074746132\n",
      "time taken :  1377.3490152359009\n",
      "--------------------------------------------------------------------------------------------------------------\n",
      "Epoch 2/19\n",
      "--------------------------------------------------------------------------------------------------------------\n",
      "Iteration :  1  /  688\n",
      "loss :  0.14492562413215637\n",
      "lossl :  3.2335519790649414e-06 loss1 :  0.0024523288011550903 loss2 :  0.02231355756521225 loss3 :  0.12015650421380997\n",
      "Iteration :  301  /  688\n",
      "loss :  0.15187223255634308\n",
      "lossl :  2.5480985641479492e-06 loss1 :  0.11246699094772339 loss2 :  0.03530748933553696 loss3 :  0.004095211625099182\n",
      "Iteration :  601  /  688\n",
      "loss :  0.05920548737049103\n",
      "lossl :  2.9578804969787598e-06 loss1 :  0.027183808386325836 loss2 :  0.0006822049617767334 loss3 :  0.03133651614189148\n",
      "time taken :  1374.8606731891632\n",
      "--------------------------------------------------------------------------------------------------------------\n",
      "Epoch 3/19\n",
      "--------------------------------------------------------------------------------------------------------------\n",
      "Iteration :  1  /  688\n",
      "loss :  0.1501089185476303\n",
      "lossl :  2.078711986541748e-06 loss1 :  0.021214112639427185 loss2 :  0.08391983807086945 loss3 :  0.04497288912534714\n",
      "Iteration :  301  /  688\n",
      "loss :  0.09828393906354904\n",
      "lossl :  3.032386302947998e-06 loss1 :  0.04446803778409958 loss2 :  0.010759435594081879 loss3 :  0.043053433299064636\n",
      "Iteration :  601  /  688\n",
      "loss :  0.23844492435455322\n",
      "lossl :  1.4826655387878418e-06 loss1 :  0.057461515069007874 loss2 :  0.07790936529636383 loss3 :  0.10307255387306213\n",
      "time taken :  1375.7546956539154\n",
      "--------------------------------------------------------------------------------------------------------------\n",
      "Epoch 4/19\n",
      "--------------------------------------------------------------------------------------------------------------\n",
      "Iteration :  1  /  688\n",
      "loss :  0.18491877615451813\n",
      "lossl :  9.112060070037842e-06 loss1 :  0.01308773085474968 loss2 :  0.06159188598394394 loss3 :  0.11023004353046417\n",
      "Iteration :  301  /  688\n",
      "loss :  0.009382680058479309\n",
      "lossl :  2.7567148208618164e-07 loss1 :  0.0016806423664093018 loss2 :  0.005674488842487335 loss3 :  0.002027273178100586\n",
      "Iteration :  601  /  688\n",
      "loss :  0.07198745012283325\n",
      "lossl :  6.92903995513916e-07 loss1 :  0.0007006525993347168 loss2 :  0.009195245802402496 loss3 :  0.062090855091810226\n",
      "time taken :  1435.0051310062408\n",
      "--------------------------------------------------------------------------------------------------------------\n",
      "Epoch 5/19\n",
      "--------------------------------------------------------------------------------------------------------------\n",
      "Iteration :  1  /  688\n",
      "loss :  0.1929098665714264\n",
      "lossl :  2.7939677238464355e-06 loss1 :  0.06441782414913177 loss2 :  0.110098697245121 loss3 :  0.018390558660030365\n",
      "Iteration :  301  /  688\n",
      "loss :  0.05695316940546036\n",
      "lossl :  1.773238182067871e-06 loss1 :  0.003462761640548706 loss2 :  0.027311846613883972 loss3 :  0.02617678791284561\n",
      "Iteration :  601  /  688\n",
      "loss :  0.172414630651474\n",
      "lossl :  3.2335519790649414e-06 loss1 :  0.15114767849445343 loss2 :  0.0149029940366745 loss3 :  0.006360724568367004\n",
      "time taken :  1377.7678685188293\n",
      "--------------------------------------------------------------------------------------------------------------\n",
      "Epoch 6/19\n",
      "--------------------------------------------------------------------------------------------------------------\n",
      "Iteration :  1  /  688\n",
      "loss :  0.03720211982727051\n",
      "lossl :  3.501772880554199e-07 loss1 :  0.0012753605842590332 loss2 :  0.003897331655025482 loss3 :  0.03202907741069794\n",
      "Iteration :  301  /  688\n",
      "loss :  0.0555688850581646\n",
      "lossl :  7.003545761108398e-07 loss1 :  0.016759157180786133 loss2 :  0.014078918844461441 loss3 :  0.024730108678340912\n",
      "Iteration :  601  /  688\n",
      "loss :  0.3260985314846039\n",
      "lossl :  3.121793270111084e-06 loss1 :  0.006571032106876373 loss2 :  0.11485207825899124 loss3 :  0.20467230677604675\n",
      "time taken :  1377.6857726573944\n",
      "--------------------------------------------------------------------------------------------------------------\n",
      "Epoch 7/19\n",
      "--------------------------------------------------------------------------------------------------------------\n",
      "Iteration :  1  /  688\n",
      "loss :  0.21779197454452515\n",
      "lossl :  3.6656856536865234e-06 loss1 :  0.05751657485961914 loss2 :  0.10969860851764679 loss3 :  0.05057312920689583\n",
      "Iteration :  301  /  688\n",
      "loss :  0.11206196993589401\n",
      "lossl :  3.8743019104003906e-07 loss1 :  0.00350942462682724 loss2 :  0.0026756078004837036 loss3 :  0.10587655007839203\n",
      "Iteration :  601  /  688\n",
      "loss :  0.02823769301176071\n",
      "lossl :  7.82310962677002e-07 loss1 :  0.00938355177640915 loss2 :  0.01667392998933792 loss3 :  0.0021794289350509644\n",
      "time taken :  1378.5124337673187\n",
      "--------------------------------------------------------------------------------------------------------------\n",
      "Epoch 8/19\n",
      "--------------------------------------------------------------------------------------------------------------\n",
      "Iteration :  1  /  688\n",
      "loss :  0.007477514445781708\n",
      "lossl :  1.0281801223754883e-06 loss1 :  0.0014375895261764526 loss2 :  0.002085082232952118 loss3 :  0.003953814506530762\n",
      "Iteration :  301  /  688\n",
      "loss :  0.21756070852279663\n",
      "lossl :  9.98377799987793e-07 loss1 :  0.007177688181400299 loss2 :  0.07854843139648438 loss3 :  0.13183358311653137\n",
      "Iteration :  601  /  688\n",
      "loss :  0.14675816893577576\n",
      "lossl :  4.246830940246582e-07 loss1 :  0.034093379974365234 loss2 :  0.0026764720678329468 loss3 :  0.10998788475990295\n",
      "time taken :  1378.0145976543427\n",
      "--------------------------------------------------------------------------------------------------------------\n",
      "Epoch 9/19\n",
      "--------------------------------------------------------------------------------------------------------------\n",
      "Iteration :  1  /  688\n",
      "loss :  0.12312357127666473\n",
      "lossl :  6.780028343200684e-07 loss1 :  0.08029061555862427 loss2 :  0.021460548043251038 loss3 :  0.02137172967195511\n",
      "Iteration :  301  /  688\n",
      "loss :  0.10556218773126602\n",
      "lossl :  8.344650268554688e-07 loss1 :  0.09647686779499054 loss2 :  0.006909862160682678 loss3 :  0.0021746233105659485\n",
      "Iteration :  601  /  688\n",
      "loss :  0.4070688486099243\n",
      "lossl :  4.470348358154297e-07 loss1 :  0.11703759431838989 loss2 :  0.2264784425497055 loss3 :  0.0635523647069931\n",
      "time taken :  1378.074336528778\n",
      "--------------------------------------------------------------------------------------------------------------\n",
      "Epoch 10/19\n",
      "--------------------------------------------------------------------------------------------------------------\n",
      "Iteration :  1  /  688\n",
      "loss :  0.22319304943084717\n",
      "lossl :  3.948807716369629e-07 loss1 :  0.0008573979139328003 loss2 :  0.14842553436756134 loss3 :  0.07390972971916199\n",
      "Iteration :  301  /  688\n",
      "loss :  0.11321989446878433\n",
      "lossl :  1.341104507446289e-07 loss1 :  0.0031066685914993286 loss2 :  0.038717567920684814 loss3 :  0.07139552384614944\n"
     ]
    },
    {
     "name": "stdout",
     "output_type": "stream",
     "text": [
      "Iteration :  601  /  688\n",
      "loss :  0.07551279664039612\n",
      "lossl :  4.246830940246582e-07 loss1 :  0.013879429548978806 loss2 :  0.0034844055771827698 loss3 :  0.05814853310585022\n",
      "time taken :  1416.6406819820404\n",
      "--------------------------------------------------------------------------------------------------------------\n",
      "Epoch 11/19\n",
      "--------------------------------------------------------------------------------------------------------------\n",
      "Iteration :  1  /  688\n",
      "loss :  0.051222726702690125\n",
      "lossl :  2.4586915969848633e-07 loss1 :  0.03544701635837555 loss2 :  0.005039043724536896 loss3 :  0.010736420750617981\n",
      "Iteration :  301  /  688\n",
      "loss :  0.13553377985954285\n",
      "lossl :  1.1175870895385742e-07 loss1 :  0.005956247448921204 loss2 :  0.06842558085918427 loss3 :  0.061151839792728424\n",
      "Iteration :  601  /  688\n",
      "loss :  0.4348887801170349\n",
      "lossl :  4.3958425521850586e-07 loss1 :  0.001010105013847351 loss2 :  0.22201712429523468 loss3 :  0.21186108887195587\n",
      "time taken :  1376.0069184303284\n",
      "--------------------------------------------------------------------------------------------------------------\n",
      "Epoch 12/19\n",
      "--------------------------------------------------------------------------------------------------------------\n",
      "Iteration :  1  /  688\n",
      "loss :  0.0507780946791172\n",
      "lossl :  2.4586915969848633e-07 loss1 :  0.03593183681368828 loss2 :  0.0014201179146766663 loss3 :  0.01342589408159256\n",
      "Iteration :  301  /  688\n",
      "loss :  0.11118735373020172\n",
      "lossl :  3.0547380447387695e-07 loss1 :  0.08237627148628235 loss2 :  0.009729847311973572 loss3 :  0.019080933183431625\n",
      "Iteration :  601  /  688\n",
      "loss :  0.009424261748790741\n",
      "lossl :  8.195638656616211e-08 loss1 :  0.0019831061363220215 loss2 :  9.715557098388672e-05 loss3 :  0.007343918085098267\n",
      "time taken :  1377.3221638202667\n",
      "--------------------------------------------------------------------------------------------------------------\n",
      "Epoch 13/19\n",
      "--------------------------------------------------------------------------------------------------------------\n",
      "Iteration :  1  /  688\n",
      "loss :  0.23997482657432556\n",
      "lossl :  2.086162567138672e-07 loss1 :  0.002935372292995453 loss2 :  0.000519387423992157 loss3 :  0.23651985824108124\n",
      "Iteration :  301  /  688\n",
      "loss :  0.09114225953817368\n",
      "lossl :  1.341104507446289e-07 loss1 :  0.003861844539642334 loss2 :  0.015877097845077515 loss3 :  0.07140318304300308\n",
      "Iteration :  601  /  688\n",
      "loss :  0.10140415281057358\n",
      "lossl :  1.4901161193847656e-07 loss1 :  0.010903194546699524 loss2 :  0.016646772623062134 loss3 :  0.07385403662919998\n",
      "time taken :  1379.8437974452972\n",
      "--------------------------------------------------------------------------------------------------------------\n",
      "Epoch 14/19\n",
      "--------------------------------------------------------------------------------------------------------------\n",
      "Iteration :  1  /  688\n",
      "loss :  0.007028445601463318\n",
      "lossl :  1.2665987014770508e-07 loss1 :  0.0010903775691986084 loss2 :  0.002115398645401001 loss3 :  0.003822542726993561\n",
      "Iteration :  301  /  688\n",
      "loss :  0.0592803880572319\n",
      "lossl :  1.862645149230957e-07 loss1 :  0.00016613304615020752 loss2 :  0.0004580467939376831 loss3 :  0.05865602195262909\n",
      "Iteration :  601  /  688\n",
      "loss :  0.2173069417476654\n",
      "lossl :  3.2782554626464844e-07 loss1 :  0.11449036002159119 loss2 :  0.04781012237071991 loss3 :  0.055006131529808044\n",
      "time taken :  1383.708631515503\n",
      "--------------------------------------------------------------------------------------------------------------\n",
      "Epoch 15/19\n",
      "--------------------------------------------------------------------------------------------------------------\n",
      "Iteration :  1  /  688\n",
      "loss :  0.2749615013599396\n",
      "lossl :  4.649162292480469e-06 loss1 :  0.0835036188364029 loss2 :  0.16137059032917023 loss3 :  0.030082643032073975\n",
      "Iteration :  301  /  688\n",
      "loss :  0.08680692315101624\n",
      "lossl :  3.725290298461914e-08 loss1 :  0.01126880943775177 loss2 :  0.06984979659318924 loss3 :  0.005688279867172241\n",
      "Iteration :  601  /  688\n",
      "loss :  0.09628157317638397\n",
      "lossl :  1.4901161193847656e-08 loss1 :  0.01145896315574646 loss2 :  0.0029701292514801025 loss3 :  0.08185246586799622\n",
      "time taken :  1798.898231267929\n",
      "--------------------------------------------------------------------------------------------------------------\n",
      "Epoch 16/19\n",
      "--------------------------------------------------------------------------------------------------------------\n",
      "Iteration :  1  /  688\n",
      "loss :  0.04179456830024719\n",
      "lossl :  0.0 loss1 :  0.001290246844291687 loss2 :  0.03320698440074921 loss3 :  0.007297337055206299\n",
      "Iteration :  301  /  688\n",
      "loss :  0.07692882418632507\n",
      "lossl :  7.450580596923828e-09 loss1 :  0.015149295330047607 loss2 :  0.05255104601383209 loss3 :  0.009228471666574478\n",
      "Iteration :  601  /  688\n",
      "loss :  0.008039936423301697\n",
      "lossl :  0.0 loss1 :  0.002391502261161804 loss2 :  0.0055672526359558105 loss3 :  8.118152618408203e-05\n",
      "time taken :  1927.7250773906708\n",
      "--------------------------------------------------------------------------------------------------------------\n",
      "Epoch 17/19\n",
      "--------------------------------------------------------------------------------------------------------------\n",
      "Iteration :  1  /  688\n",
      "loss :  0.09288569539785385\n",
      "lossl :  0.0 loss1 :  0.03135468065738678 loss2 :  0.060970425605773926 loss3 :  0.0005605891346931458\n",
      "Iteration :  301  /  688\n",
      "loss :  0.07510954141616821\n",
      "lossl :  0.0 loss1 :  0.01972947269678116 loss2 :  0.0006592720746994019 loss3 :  0.05472079664468765\n",
      "Iteration :  601  /  688\n",
      "loss :  0.11036384105682373\n",
      "lossl :  0.0 loss1 :  0.04218447953462601 loss2 :  0.01299303025007248 loss3 :  0.05518633499741554\n",
      "time taken :  1900.947348356247\n",
      "--------------------------------------------------------------------------------------------------------------\n",
      "Epoch 18/19\n",
      "--------------------------------------------------------------------------------------------------------------\n",
      "Iteration :  1  /  688\n",
      "loss :  0.09480450302362442\n",
      "lossl :  1.601874828338623e-07 loss1 :  0.020584836602211 loss2 :  0.06478939950466156 loss3 :  0.00943010300397873\n",
      "Iteration :  301  /  688\n",
      "loss :  0.12785562872886658\n",
      "lossl :  3.427267074584961e-07 loss1 :  0.010346919298171997 loss2 :  0.11492012441158295 loss3 :  0.002588234841823578\n",
      "Iteration :  601  /  688\n",
      "loss :  0.06179492920637131\n",
      "lossl :  0.0 loss1 :  0.004204154014587402 loss2 :  0.04105190932750702 loss3 :  0.016538865864276886\n",
      "time taken :  1922.4669215679169\n",
      "--------------------------------------------------------------------------------------------------------------\n",
      "Epoch 19/19\n",
      "--------------------------------------------------------------------------------------------------------------\n",
      "Iteration :  1  /  688\n",
      "loss :  0.0034620389342308044\n",
      "lossl :  6.705522537231445e-08 loss1 :  0.0031129419803619385 loss2 :  0.00012476742267608643 loss3 :  0.00022426247596740723\n",
      "Iteration :  301  /  688\n",
      "loss :  0.002014555037021637\n",
      "lossl :  0.0 loss1 :  0.0009992867708206177 loss2 :  0.00044592469930648804 loss3 :  0.0005693435668945312\n",
      "Iteration :  601  /  688\n",
      "loss :  0.012215331196784973\n",
      "lossl :  0.0 loss1 :  0.000811845064163208 loss2 :  0.0046241432428359985 loss3 :  0.006779342889785767\n",
      "time taken :  1943.564115524292\n",
      "--------------------------------------------------------------------------------------------------------------\n"
     ]
    }
   ],
   "source": [
    "for epoch in range(num_epochs):  # loop over the dataset multiple times\n",
    "    \n",
    "    print('Epoch {}/{}'.format(epoch, num_epochs - 1))\n",
    "    print('-' * 110)\n",
    "\n",
    "    i = 0\n",
    "    rng_state = torch.get_rng_state()\n",
    "    new_idxs = torch.randperm(num_train)\n",
    "    c3_X = c3_data_tensor[new_idxs]\n",
    "    c3_Y = c3_target_tensor[new_idxs]\n",
    "    \n",
    "    t1 = time.time()\n",
    "    for t in range(iter_per_epoch):\n",
    "        \n",
    "        X_batch = c3_X[i: i+batch_size]\n",
    "        Y_batch = c3_Y[i: i+batch_size][:,0:4]\n",
    "        i += batch_size\n",
    "\n",
    "        Y_batch = Variable(Y_batch.cuda())\n",
    "        X_batch = Variable(X_batch.cuda())\n",
    "        \n",
    "        optimizer.zero_grad()\n",
    "        \n",
    "        outputs = net(X_batch)\n",
    "        \n",
    "        lossl = objective(outputs[0], Y_batch[:, 0])\n",
    "        loss1 = objective(outputs[1], Y_batch[:, 1])\n",
    "        loss2 = objective(outputs[2], Y_batch[:, 2])\n",
    "        loss3 = objective(outputs[3], Y_batch[:, 3])\n",
    "        final_loss = lossl + loss1 + loss2 + loss3\n",
    "        \n",
    "        final_loss.backward()\n",
    "        \n",
    "        optimizer.step()\n",
    "        \n",
    "        loss_history.append(final_loss.data[0])\n",
    "        epoch_losses[epoch].append(final_loss.data[0])\n",
    "        \n",
    "        if (t % print_every == 0):\n",
    "            print('Iteration : ', t+1, ' / ', iter_per_epoch)\n",
    "            print('loss : ', final_loss.data[0])\n",
    "            print('lossl : ', lossl.data[0], 'loss1 : ', loss1.data[0], 'loss2 : ', loss2.data[0], 'loss3 : ', loss3.data[0])\n",
    "    t2 = time.time()\n",
    "    print(\"time taken : \", t2-t1)\n",
    "    print('-' * 110)\n",
    "        "
   ]
  },
  {
   "cell_type": "code",
   "execution_count": 25,
   "metadata": {
    "collapsed": true
   },
   "outputs": [],
   "source": [
    "f = open(\"c3_leg_ep_20.pkl\", \"bw\")\n",
    "torch.save(net.state_dict(), f)\n",
    "f.close()"
   ]
  },
  {
   "cell_type": "code",
   "execution_count": 34,
   "metadata": {},
   "outputs": [],
   "source": [
    "import matplotlib.pyplot as plt\n",
    "%matplotlib inline"
   ]
  },
  {
   "cell_type": "code",
   "execution_count": 35,
   "metadata": {},
   "outputs": [
    {
     "data": {
      "text/plain": [
       "[<matplotlib.lines.Line2D at 0x7f72ae11d748>]"
      ]
     },
     "execution_count": 35,
     "metadata": {},
     "output_type": "execute_result"
    },
    {
     "data": {
      "image/png": "[encoded data removed]",
      "text/plain": [
       "<matplotlib.figure.Figure at 0x7f72ae21a2b0>"
      ]
     },
     "metadata": {},
     "output_type": "display_data"
    }
   ],
   "source": [
    "plt.figure()\n",
    "plt.plot(loss_history)"
   ]
  }
 ],
 "metadata": {
  "kernelspec": {
   "display_name": "Python 3",
   "language": "python",
   "name": "python3"
  },
  "language_info": {
   "codemirror_mode": {
    "name": "ipython",
    "version": 3
   },
   "file_extension": ".py",
   "mimetype": "text/x-python",
   "name": "python",
   "nbconvert_exporter": "python",
   "pygments_lexer": "ipython3",
   "version": "3.5.3"
  }
 },
 "nbformat": 4,
 "nbformat_minor": 2
}
